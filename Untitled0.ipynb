{
  "nbformat": 4,
  "nbformat_minor": 0,
  "metadata": {
    "colab": {
      "provenance": [],
      "authorship_tag": "ABX9TyNOby+Zhy0TcBhcidLF8RGE",
      "include_colab_link": true
    },
    "kernelspec": {
      "name": "python3",
      "display_name": "Python 3"
    },
    "language_info": {
      "name": "python"
    }
  },
  "cells": [
    {
      "cell_type": "markdown",
      "metadata": {
        "id": "view-in-github",
        "colab_type": "text"
      },
      "source": [
        "<a href=\"https://colab.research.google.com/github/sanjeetsingh86/sanjeetsingh86/blob/main/Untitled0.ipynb\" target=\"_parent\"><img src=\"https://colab.research.google.com/assets/colab-badge.svg\" alt=\"Open In Colab\"/></a>"
      ]
    },
    {
      "cell_type": "code",
      "execution_count": 2,
      "metadata": {
        "colab": {
          "base_uri": "https://localhost:8080/"
        },
        "id": "gantE9znR_7x",
        "outputId": "5b235399-86d9-409a-f4a7-9623402b6eb2"
      },
      "outputs": [
        {
          "output_type": "stream",
          "name": "stdout",
          "text": [
            "Hello Neurons\n"
          ]
        }
      ],
      "source": [
        "print(\"Hello Neurons\")"
      ]
    },
    {
      "cell_type": "code",
      "source": [
        "print('greeting from ineuron')\n",
        "print(\"Good Evening\")"
      ],
      "metadata": {
        "colab": {
          "base_uri": "https://localhost:8080/"
        },
        "id": "iX2ZHtT-SXg4",
        "outputId": "e5ad03aa-c2cd-4493-9252-0103a5157bfc"
      },
      "execution_count": 4,
      "outputs": [
        {
          "output_type": "stream",
          "name": "stdout",
          "text": [
            "greeting from ineuron\n",
            "Good Evening\n"
          ]
        }
      ]
    },
    {
      "cell_type": "code",
      "source": [
        "print \"Good Evening\""
      ],
      "metadata": {
        "colab": {
          "base_uri": "https://localhost:8080/",
          "height": 140
        },
        "id": "ugQJI4JkS9yL",
        "outputId": "c4c262db-e66d-48e5-d94c-8578fbf616b8"
      },
      "execution_count": 8,
      "outputs": [
        {
          "output_type": "error",
          "ename": "SyntaxError",
          "evalue": "ignored",
          "traceback": [
            "\u001b[0;36m  File \u001b[0;32m\"<ipython-input-8-19a5de821704>\"\u001b[0;36m, line \u001b[0;32m1\u001b[0m\n\u001b[0;31m    print \"Good Evening\"\u001b[0m\n\u001b[0m    ^\u001b[0m\n\u001b[0;31mSyntaxError\u001b[0m\u001b[0;31m:\u001b[0m Missing parentheses in call to 'print'. Did you mean print(...)?\n"
          ]
        }
      ]
    },
    {
      "cell_type": "code",
      "source": [
        "print (\"Good\n",
        "Morning\")"
      ],
      "metadata": {
        "colab": {
          "base_uri": "https://localhost:8080/",
          "height": 140
        },
        "id": "0o77EGt2TFM2",
        "outputId": "247e5f27-92a1-43ff-b4ad-7fd4ccfb1761"
      },
      "execution_count": 9,
      "outputs": [
        {
          "output_type": "error",
          "ename": "SyntaxError",
          "evalue": "ignored",
          "traceback": [
            "\u001b[0;36m  File \u001b[0;32m\"<ipython-input-9-ed4bd65409cb>\"\u001b[0;36m, line \u001b[0;32m1\u001b[0m\n\u001b[0;31m    print (\"Good\u001b[0m\n\u001b[0m           ^\u001b[0m\n\u001b[0;31mSyntaxError\u001b[0m\u001b[0;31m:\u001b[0m unterminated string literal (detected at line 1)\n"
          ]
        }
      ]
    },
    {
      "cell_type": "code",
      "source": [
        "\"good evening\"\n",
        "print(\"HI\")"
      ],
      "metadata": {
        "colab": {
          "base_uri": "https://localhost:8080/"
        },
        "id": "aOBCqz4eTcLB",
        "outputId": "cff94fa1-710e-4a73-ab8d-32665fc26a1e"
      },
      "execution_count": 11,
      "outputs": [
        {
          "output_type": "stream",
          "name": "stdout",
          "text": [
            "HI\n"
          ]
        }
      ]
    },
    {
      "cell_type": "code",
      "source": [
        "print(\"\"\"Good\n",
        "Evening\"\"\")"
      ],
      "metadata": {
        "colab": {
          "base_uri": "https://localhost:8080/"
        },
        "id": "yYZqRQ6iTjis",
        "outputId": "693975c0-340a-4c20-c46d-8959cb5b0b6a"
      },
      "execution_count": 15,
      "outputs": [
        {
          "output_type": "stream",
          "name": "stdout",
          "text": [
            "Good \n",
            "Evening\n"
          ]
        }
      ]
    },
    {
      "cell_type": "code",
      "source": [
        "print(\"\"\"Rotating locomotion in living systems includes both the rolling of entire organisms, and the use of structures that propel by rotating relative to a fixed body, such as a wheel or propeller. Though the former mode is used by varied forms of life, including pangolins and tumbleweeds, the latter is only known to occur in bacteria using microscopic, corkscrew-like flagella. While other human technologies, like wings and lenses, have common natural analogues, multicellular organisms have apparently never evolved rotating propulsive structures. Such structures may be infeasible to grow and maintain with biological processes. Compared with walking or running on limbs, in natural environments, wheeled propulsion is rarely as energy-efficient, versatile, or capable of navigating obstacles. This is likely why wheels were regionally abandoned at least once in history. Rolling and wheeled creatures\"\"\")"
      ],
      "metadata": {
        "colab": {
          "base_uri": "https://localhost:8080/"
        },
        "id": "2hK-5Q9HT2Vl",
        "outputId": "0d1caa51-754b-49d5-a2ca-a88f89da7563"
      },
      "execution_count": 16,
      "outputs": [
        {
          "output_type": "stream",
          "name": "stdout",
          "text": [
            "Rotating locomotion in living systems includes both the rolling of entire organisms, and the use of structures that propel by rotating relative to a fixed body, such as a wheel or propeller. Though the former mode is used by varied forms of life, including pangolins and tumbleweeds, the latter is only known to occur in bacteria using microscopic, corkscrew-like flagella. While other human technologies, like wings and lenses, have common natural analogues, multicellular organisms have apparently never evolved rotating propulsive structures. Such structures may be infeasible to grow and maintain with biological processes. Compared with walking or running on limbs, in natural environments, wheeled propulsion is rarely as energy-efficient, versatile, or capable of navigating obstacles. This is likely why wheels were regionally abandoned at least once in history. Rolling and wheeled creatures\n"
          ]
        }
      ]
    },
    {
      "cell_type": "code",
      "source": [
        "print(\"\"\"Hi\n",
        "Good\n",
        "Morning\n",
        "from India\"\"\")"
      ],
      "metadata": {
        "colab": {
          "base_uri": "https://localhost:8080/"
        },
        "id": "rQf6OiBuUg5R",
        "outputId": "8782e996-c318-4c13-e065-4cbeedb853aa"
      },
      "execution_count": 17,
      "outputs": [
        {
          "output_type": "stream",
          "name": "stdout",
          "text": [
            "Hi\n",
            "Good\n",
            "Morning\n",
            "from India\n"
          ]
        }
      ]
    },
    {
      "cell_type": "code",
      "source": [
        "# say hello to the students\n",
        "print (\"Hi Students\")"
      ],
      "metadata": {
        "colab": {
          "base_uri": "https://localhost:8080/"
        },
        "id": "juk3HXAlVAHg",
        "outputId": "c84fc55f-a735-459d-cb44-d9686e233af5"
      },
      "execution_count": 18,
      "outputs": [
        {
          "output_type": "stream",
          "name": "stdout",
          "text": [
            "Hi Students\n"
          ]
        }
      ]
    },
    {
      "cell_type": "code",
      "source": [
        "## Multi line comment"
      ],
      "metadata": {
        "id": "2LtsF_gPVWFv"
      },
      "execution_count": 22,
      "outputs": []
    },
    {
      "cell_type": "code",
      "source": [
        "\"\"\"\n",
        "say hi\n",
        "to the students\n",
        "\"\"\"\n",
        "print('Hi Students')"
      ],
      "metadata": {
        "colab": {
          "base_uri": "https://localhost:8080/"
        },
        "id": "g2R0xu0EVisB",
        "outputId": "a2a5fccd-06fe-48b4-ef03-6e837f0bb317"
      },
      "execution_count": 24,
      "outputs": [
        {
          "output_type": "stream",
          "name": "stdout",
          "text": [
            "Hi Students\n"
          ]
        }
      ]
    },
    {
      "cell_type": "code",
      "source": [
        "# more execeptional cases in print statements\n",
        "\n",
        "print(\"Hi my name is \"sunny\")"
      ],
      "metadata": {
        "colab": {
          "base_uri": "https://localhost:8080/",
          "height": 140
        },
        "id": "nSjtnr9NWIfg",
        "outputId": "8d378495-7722-4c53-8fb5-d3fa0d7cc6d8"
      },
      "execution_count": 26,
      "outputs": [
        {
          "output_type": "error",
          "ename": "SyntaxError",
          "evalue": "ignored",
          "traceback": [
            "\u001b[0;36m  File \u001b[0;32m\"<ipython-input-26-1430fa87347c>\"\u001b[0;36m, line \u001b[0;32m3\u001b[0m\n\u001b[0;31m    print(\"Hi my name is \"sunny\")\u001b[0m\n\u001b[0m                               ^\u001b[0m\n\u001b[0;31mSyntaxError\u001b[0m\u001b[0;31m:\u001b[0m unterminated string literal (detected at line 3)\n"
          ]
        }
      ]
    },
    {
      "cell_type": "code",
      "source": [
        "print (\"Hi my name is 'SANJEET' \")"
      ],
      "metadata": {
        "colab": {
          "base_uri": "https://localhost:8080/"
        },
        "id": "jTB83JdVWhD_",
        "outputId": "4733541c-0fee-4f6c-e7f1-b0ce581e324a"
      },
      "execution_count": 33,
      "outputs": [
        {
          "output_type": "stream",
          "name": "stdout",
          "text": [
            "Hi my name is 'SANJEET' \n"
          ]
        }
      ]
    },
    {
      "cell_type": "code",
      "source": [
        "print(\"\"\"Hi my name is \"sanjeet\" \"\"\")"
      ],
      "metadata": {
        "colab": {
          "base_uri": "https://localhost:8080/"
        },
        "id": "4WF209VOYRVu",
        "outputId": "2f35072f-35cd-47f1-a54c-8dad836dd0f9"
      },
      "execution_count": 35,
      "outputs": [
        {
          "output_type": "stream",
          "name": "stdout",
          "text": [
            "Hi my name is \"sanjeet\" \n"
          ]
        }
      ]
    },
    {
      "cell_type": "code",
      "source": [
        "123 + 245"
      ],
      "metadata": {
        "colab": {
          "base_uri": "https://localhost:8080/"
        },
        "id": "y-QAcIJkYjLZ",
        "outputId": "1032c30b-1390-4763-dc67-bfaa0c25e9bc"
      },
      "execution_count": 37,
      "outputs": [
        {
          "output_type": "execute_result",
          "data": {
            "text/plain": [
              "368"
            ]
          },
          "metadata": {},
          "execution_count": 37
        }
      ]
    },
    {
      "cell_type": "code",
      "source": [
        "123 / 234"
      ],
      "metadata": {
        "colab": {
          "base_uri": "https://localhost:8080/"
        },
        "id": "vO8dA1XaaHqh",
        "outputId": "25b2c316-6a19-4f87-e878-00c56eb799c1"
      },
      "execution_count": 38,
      "outputs": [
        {
          "output_type": "execute_result",
          "data": {
            "text/plain": [
              "0.5256410256410257"
            ]
          },
          "metadata": {},
          "execution_count": 38
        }
      ]
    },
    {
      "cell_type": "code",
      "source": [
        "print(123%2)"
      ],
      "metadata": {
        "colab": {
          "base_uri": "https://localhost:8080/"
        },
        "id": "EJrujNS8aJ8y",
        "outputId": "a2334095-bee4-4a04-928d-1c2fcf76811e"
      },
      "execution_count": 42,
      "outputs": [
        {
          "output_type": "stream",
          "name": "stdout",
          "text": [
            "1\n"
          ]
        }
      ]
    },
    {
      "cell_type": "code",
      "source": [
        "# Variables in Python"
      ],
      "metadata": {
        "id": "MHDthxScaPWv"
      },
      "execution_count": 43,
      "outputs": []
    },
    {
      "cell_type": "code",
      "source": [
        "x = 10"
      ],
      "metadata": {
        "id": "bgB60WzbcLnF"
      },
      "execution_count": 44,
      "outputs": []
    },
    {
      "cell_type": "code",
      "source": [
        "print(x)"
      ],
      "metadata": {
        "colab": {
          "base_uri": "https://localhost:8080/"
        },
        "id": "HLPTUATdcPmg",
        "outputId": "9f17161f-4fbc-460a-af51-e27b16d24f52"
      },
      "execution_count": 45,
      "outputs": [
        {
          "output_type": "stream",
          "name": "stdout",
          "text": [
            "10\n"
          ]
        }
      ]
    },
    {
      "cell_type": "code",
      "source": [
        "y=20\n",
        "print(y)"
      ],
      "metadata": {
        "colab": {
          "base_uri": "https://localhost:8080/"
        },
        "id": "i-nEfMuncT0V",
        "outputId": "80a2bd12-dc16-41ee-a0ea-ce6c2d3758cd"
      },
      "execution_count": 47,
      "outputs": [
        {
          "output_type": "stream",
          "name": "stdout",
          "text": [
            "20\n"
          ]
        }
      ]
    },
    {
      "cell_type": "code",
      "source": [
        "print (x+y)"
      ],
      "metadata": {
        "colab": {
          "base_uri": "https://localhost:8080/"
        },
        "id": "9NQAAEJMdlHN",
        "outputId": "12159b0c-2a84-4172-b9e4-02ead6807e6b"
      },
      "execution_count": 48,
      "outputs": [
        {
          "output_type": "stream",
          "name": "stdout",
          "text": [
            "30\n"
          ]
        }
      ]
    },
    {
      "cell_type": "code",
      "source": [
        "# Variable name should start with alphabets\n",
        "# Variable name should not contain any special characters like ^ % $ # ! * ( )\n",
        "# Variable name can contain number but you cannot start with numbers\n",
        "# Also its not strict rule that you should variable names with capital letter. But its recommended to use small letters for variables"
      ],
      "metadata": {
        "id": "JRyXVGwXdpOS"
      },
      "execution_count": 49,
      "outputs": []
    },
    {
      "cell_type": "code",
      "source": [],
      "metadata": {
        "id": "m_iBu5p5em4z"
      },
      "execution_count": null,
      "outputs": []
    }
  ]
}