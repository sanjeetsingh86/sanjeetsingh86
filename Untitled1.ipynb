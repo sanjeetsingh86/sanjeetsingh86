{
  "nbformat": 4,
  "nbformat_minor": 0,
  "metadata": {
    "colab": {
      "provenance": [],
      "authorship_tag": "ABX9TyMGHzYKZlVzRJT/H8mndkSC",
      "include_colab_link": true
    },
    "kernelspec": {
      "name": "python3",
      "display_name": "Python 3"
    },
    "language_info": {
      "name": "python"
    }
  },
  "cells": [
    {
      "cell_type": "markdown",
      "metadata": {
        "id": "view-in-github",
        "colab_type": "text"
      },
      "source": [
        "<a href=\"https://colab.research.google.com/github/sanjeetsingh86/sanjeetsingh86/blob/main/Untitled1.ipynb\" target=\"_parent\"><img src=\"https://colab.research.google.com/assets/colab-badge.svg\" alt=\"Open In Colab\"/></a>"
      ]
    },
    {
      "cell_type": "code",
      "execution_count": null,
      "metadata": {
        "id": "r2Rd0LElQ7p_",
        "colab": {
          "base_uri": "https://localhost:8080/"
        },
        "outputId": "81e02e31-1a9e-404e-ff86-81e5c32a03e2"
      },
      "outputs": [
        {
          "output_type": "execute_result",
          "data": {
            "text/plain": [
              "30135"
            ]
          },
          "metadata": {},
          "execution_count": 2
        }
      ],
      "source": [
        " 122%2\n",
        " 123 * 245\n"
      ]
    },
    {
      "cell_type": "code",
      "source": [],
      "metadata": {
        "id": "oMD5AEA0u9VK"
      },
      "execution_count": null,
      "outputs": []
    },
    {
      "cell_type": "code",
      "source": [],
      "metadata": {
        "id": "A2NqOiOyu9yn"
      },
      "execution_count": null,
      "outputs": []
    },
    {
      "cell_type": "code",
      "source": [
        "print (\"result\")"
      ],
      "metadata": {
        "colab": {
          "base_uri": "https://localhost:8080/"
        },
        "id": "DR6edB-bI7GH",
        "outputId": "62d0b470-c793-4d77-ae80-a88ca1bb036f"
      },
      "execution_count": null,
      "outputs": [
        {
          "output_type": "stream",
          "name": "stdout",
          "text": [
            "result\n"
          ]
        }
      ]
    },
    {
      "cell_type": "code",
      "source": [
        "print(123*245)\n",
        "print(\"Result\")"
      ],
      "metadata": {
        "colab": {
          "base_uri": "https://localhost:8080/"
        },
        "id": "EGywQSfbI-ru",
        "outputId": "849696c6-251c-41d6-cc90-629c2138daa7"
      },
      "execution_count": null,
      "outputs": [
        {
          "output_type": "stream",
          "name": "stdout",
          "text": [
            "30135\n",
            "Result\n"
          ]
        }
      ]
    },
    {
      "cell_type": "code",
      "source": [
        "# Variables in python"
      ],
      "metadata": {
        "id": "jr0KxjzuJKlH"
      },
      "execution_count": null,
      "outputs": []
    },
    {
      "cell_type": "code",
      "source": [
        "x=10\n",
        "print(x)"
      ],
      "metadata": {
        "colab": {
          "base_uri": "https://localhost:8080/"
        },
        "id": "gP-LsP-uJpe6",
        "outputId": "79f18972-e68b-48be-8efc-47c0881be29b"
      },
      "execution_count": null,
      "outputs": [
        {
          "output_type": "stream",
          "name": "stdout",
          "text": [
            "10\n"
          ]
        }
      ]
    },
    {
      "cell_type": "code",
      "source": [
        "y=20\n",
        "print(y)"
      ],
      "metadata": {
        "colab": {
          "base_uri": "https://localhost:8080/"
        },
        "id": "HuzSPIBaKYEU",
        "outputId": "5085cc66-f24e-4ad4-f44d-731c5e2e72e4"
      },
      "execution_count": null,
      "outputs": [
        {
          "output_type": "stream",
          "name": "stdout",
          "text": [
            "20\n"
          ]
        }
      ]
    },
    {
      "cell_type": "code",
      "source": [
        "print(x+y)"
      ],
      "metadata": {
        "colab": {
          "base_uri": "https://localhost:8080/"
        },
        "id": "AXCsTX5pKcDY",
        "outputId": "a70a8f89-9418-4f65-fa81-820c29da6c0d"
      },
      "execution_count": null,
      "outputs": [
        {
          "output_type": "stream",
          "name": "stdout",
          "text": [
            "30\n"
          ]
        }
      ]
    },
    {
      "cell_type": "code",
      "source": [
        "print(x/y)"
      ],
      "metadata": {
        "colab": {
          "base_uri": "https://localhost:8080/"
        },
        "id": "gXwqDvLCKe6d",
        "outputId": "5c2666dd-6b55-4e76-c034-c08de7ad6a7c"
      },
      "execution_count": null,
      "outputs": [
        {
          "output_type": "stream",
          "name": "stdout",
          "text": [
            "0.5\n"
          ]
        }
      ]
    },
    {
      "cell_type": "code",
      "source": [
        "1- Variable names should start with alphabet\n",
        "2- Variable names should not contain any special charaters like ^%$!@#*( )\n",
        "3-Variable names can contain no but you canot start with numbers.\n",
        "4- Its not a strict rule that you should variable names a capital letter. But its recommended to use small letter for the variables.\n"
      ],
      "metadata": {
        "colab": {
          "base_uri": "https://localhost:8080/",
          "height": 140
        },
        "id": "ZLFonDNFKnNz",
        "outputId": "9221724e-6b7b-4b2b-864e-1bfe5350919b"
      },
      "execution_count": null,
      "outputs": [
        {
          "output_type": "error",
          "ename": "SyntaxError",
          "evalue": "ignored",
          "traceback": [
            "\u001b[0;36m  File \u001b[0;32m\"<ipython-input-11-70ced53eb738>\"\u001b[0;36m, line \u001b[0;32m1\u001b[0m\n\u001b[0;31m    1- Variable names should start with alphabet\u001b[0m\n\u001b[0m                ^\u001b[0m\n\u001b[0;31mSyntaxError\u001b[0m\u001b[0;31m:\u001b[0m invalid syntax\n"
          ]
        }
      ]
    },
    {
      "cell_type": "code",
      "source": [
        "import types\n",
        "#Fundamentel data type"
      ],
      "metadata": {
        "id": "1jrgj4xpOh6x"
      },
      "execution_count": null,
      "outputs": []
    },
    {
      "cell_type": "code",
      "source": [
        "# Integers - The number which does not contain decimal."
      ],
      "metadata": {
        "id": "iRbgzqL2Ow3r"
      },
      "execution_count": null,
      "outputs": []
    },
    {
      "cell_type": "code",
      "source": [
        "a=7\n",
        "type(a)"
      ],
      "metadata": {
        "colab": {
          "base_uri": "https://localhost:8080/"
        },
        "id": "l3coaeaAO7qH",
        "outputId": "bff6005f-215a-45b5-bb94-4f70e87c59c0"
      },
      "execution_count": null,
      "outputs": [
        {
          "output_type": "execute_result",
          "data": {
            "text/plain": [
              "int"
            ]
          },
          "metadata": {},
          "execution_count": 15
        }
      ]
    },
    {
      "cell_type": "code",
      "source": [
        "b=7777\n",
        "type(b)"
      ],
      "metadata": {
        "colab": {
          "base_uri": "https://localhost:8080/"
        },
        "id": "Qn1FcXFWO-F9",
        "outputId": "b0ff1580-c385-49c3-8475-ceb241139a5d"
      },
      "execution_count": null,
      "outputs": [
        {
          "output_type": "execute_result",
          "data": {
            "text/plain": [
              "int"
            ]
          },
          "metadata": {},
          "execution_count": 16
        }
      ]
    },
    {
      "cell_type": "code",
      "source": [
        "## floats-numbers containing decimal numbers"
      ],
      "metadata": {
        "id": "3Mmlom5lPHqE"
      },
      "execution_count": null,
      "outputs": []
    },
    {
      "cell_type": "code",
      "source": [
        "pi=3.14\n",
        "type(pi)"
      ],
      "metadata": {
        "colab": {
          "base_uri": "https://localhost:8080/"
        },
        "id": "sa2ZDS32PQAy",
        "outputId": "a79cefd6-272e-4e92-b1cb-d716498b6071"
      },
      "execution_count": null,
      "outputs": [
        {
          "output_type": "execute_result",
          "data": {
            "text/plain": [
              "float"
            ]
          },
          "metadata": {},
          "execution_count": 19
        }
      ]
    },
    {
      "cell_type": "code",
      "source": [
        "x = 2\n",
        "type(x)"
      ],
      "metadata": {
        "colab": {
          "base_uri": "https://localhost:8080/"
        },
        "id": "HkPBxS9xPU68",
        "outputId": "0f519d5d-8276-4201-9609-f5886f751d01"
      },
      "execution_count": null,
      "outputs": [
        {
          "output_type": "execute_result",
          "data": {
            "text/plain": [
              "int"
            ]
          },
          "metadata": {},
          "execution_count": 20
        }
      ]
    },
    {
      "cell_type": "code",
      "source": [
        "pi=22/7\n",
        "pi"
      ],
      "metadata": {
        "colab": {
          "base_uri": "https://localhost:8080/"
        },
        "id": "PA9g5N0tPcCX",
        "outputId": "21a52e34-9dd6-42c2-d763-7a2e595007cd"
      },
      "execution_count": null,
      "outputs": [
        {
          "output_type": "execute_result",
          "data": {
            "text/plain": [
              "3.142857142857143"
            ]
          },
          "metadata": {},
          "execution_count": 21
        }
      ]
    },
    {
      "cell_type": "code",
      "source": [
        "type(pi)"
      ],
      "metadata": {
        "colab": {
          "base_uri": "https://localhost:8080/"
        },
        "id": "t47pS4T4PiCA",
        "outputId": "9b2b98ff-5280-44ac-ce1e-5f47956d6233"
      },
      "execution_count": null,
      "outputs": [
        {
          "output_type": "execute_result",
          "data": {
            "text/plain": [
              "float"
            ]
          },
          "metadata": {},
          "execution_count": 22
        }
      ]
    },
    {
      "cell_type": "code",
      "source": [
        "#complex numbers"
      ],
      "metadata": {
        "id": "rKYmnSB1PkCX"
      },
      "execution_count": null,
      "outputs": []
    },
    {
      "cell_type": "code",
      "source": [
        "a = 2+2j\n",
        "print(a)"
      ],
      "metadata": {
        "colab": {
          "base_uri": "https://localhost:8080/"
        },
        "id": "WjlDs4AgPwdK",
        "outputId": "11b7e68f-e842-4472-9dba-6f69a80079c6"
      },
      "execution_count": null,
      "outputs": [
        {
          "output_type": "stream",
          "name": "stdout",
          "text": [
            "(2+2j)\n"
          ]
        }
      ]
    },
    {
      "cell_type": "code",
      "source": [
        "type(a)"
      ],
      "metadata": {
        "colab": {
          "base_uri": "https://localhost:8080/"
        },
        "id": "x1hGWdzyP2WE",
        "outputId": "2011fb21-26e3-4d74-ebcf-99b0b9587c5e"
      },
      "execution_count": null,
      "outputs": [
        {
          "output_type": "execute_result",
          "data": {
            "text/plain": [
              "complex"
            ]
          },
          "metadata": {},
          "execution_count": 25
        }
      ]
    },
    {
      "cell_type": "code",
      "source": [
        "a.real"
      ],
      "metadata": {
        "colab": {
          "base_uri": "https://localhost:8080/"
        },
        "id": "v-LSsz4UP4dX",
        "outputId": "193e30de-d515-4ceb-c069-20df17a2e7e1"
      },
      "execution_count": null,
      "outputs": [
        {
          "output_type": "execute_result",
          "data": {
            "text/plain": [
              "2.0"
            ]
          },
          "metadata": {},
          "execution_count": 26
        }
      ]
    },
    {
      "cell_type": "code",
      "source": [
        "a.imag"
      ],
      "metadata": {
        "colab": {
          "base_uri": "https://localhost:8080/"
        },
        "id": "Avbz2DAOQ8_s",
        "outputId": "f0c027b1-4af0-4cba-ffa5-cc5f78d030cb"
      },
      "execution_count": null,
      "outputs": [
        {
          "output_type": "execute_result",
          "data": {
            "text/plain": [
              "2.0"
            ]
          },
          "metadata": {},
          "execution_count": 27
        }
      ]
    },
    {
      "cell_type": "code",
      "source": [
        "#Dynamic typing"
      ],
      "metadata": {
        "id": "wtbgt5_WQ_F0"
      },
      "execution_count": null,
      "outputs": []
    },
    {
      "cell_type": "code",
      "source": [
        "int a = 22;"
      ],
      "metadata": {
        "colab": {
          "base_uri": "https://localhost:8080/",
          "height": 140
        },
        "id": "FEzS_C1pRHXk",
        "outputId": "93b99a01-023c-426c-98c7-03cb9dd42750"
      },
      "execution_count": null,
      "outputs": [
        {
          "output_type": "error",
          "ename": "SyntaxError",
          "evalue": "ignored",
          "traceback": [
            "\u001b[0;36m  File \u001b[0;32m\"<ipython-input-30-3b42f1d34cfb>\"\u001b[0;36m, line \u001b[0;32m1\u001b[0m\n\u001b[0;31m    int a = 22;\u001b[0m\n\u001b[0m        ^\u001b[0m\n\u001b[0;31mSyntaxError\u001b[0m\u001b[0;31m:\u001b[0m invalid syntax\n"
          ]
        }
      ]
    },
    {
      "cell_type": "code",
      "source": [
        "1 a=22\n",
        "2 print(type(a))\n",
        "3 a=22.2\n",
        "4 print(type(a))"
      ],
      "metadata": {
        "colab": {
          "base_uri": "https://localhost:8080/",
          "height": 140
        },
        "id": "WiMm0FOERUJa",
        "outputId": "b6f7a4b9-f6c8-48cc-d273-cae73cc983c6"
      },
      "execution_count": null,
      "outputs": [
        {
          "output_type": "error",
          "ename": "SyntaxError",
          "evalue": "ignored",
          "traceback": [
            "\u001b[0;36m  File \u001b[0;32m\"<ipython-input-33-8949b85ac99f>\"\u001b[0;36m, line \u001b[0;32m1\u001b[0m\n\u001b[0;31m    1 a=22\u001b[0m\n\u001b[0m      ^\u001b[0m\n\u001b[0;31mSyntaxError\u001b[0m\u001b[0;31m:\u001b[0m invalid syntax\n"
          ]
        }
      ]
    },
    {
      "cell_type": "code",
      "source": [
        "a=22\n",
        "print(type(a))"
      ],
      "metadata": {
        "colab": {
          "base_uri": "https://localhost:8080/"
        },
        "id": "kcy07aqbRiYu",
        "outputId": "0d0d42f9-6781-40c8-d0ae-1c29048ca6ca"
      },
      "execution_count": null,
      "outputs": [
        {
          "output_type": "stream",
          "name": "stdout",
          "text": [
            "<class 'int'>\n"
          ]
        }
      ]
    },
    {
      "cell_type": "code",
      "source": [
        "a=22.2\n",
        "print(type(a))"
      ],
      "metadata": {
        "colab": {
          "base_uri": "https://localhost:8080/"
        },
        "id": "VSS_kL5kR-hO",
        "outputId": "add93d3a-7000-49c4-84cc-c7d0fa2293cf"
      },
      "execution_count": null,
      "outputs": [
        {
          "output_type": "stream",
          "name": "stdout",
          "text": [
            "<class 'float'>\n"
          ]
        }
      ]
    },
    {
      "cell_type": "code",
      "source": [
        "a=\"sunny\""
      ],
      "metadata": {
        "id": "ZF6NxVJqSCrq"
      },
      "execution_count": null,
      "outputs": []
    },
    {
      "cell_type": "code",
      "source": [
        "print(a)"
      ],
      "metadata": {
        "colab": {
          "base_uri": "https://localhost:8080/"
        },
        "id": "4RaotTWeSe1m",
        "outputId": "afabfac5-38c7-4c7c-a262-52ceb6aeb4ad"
      },
      "execution_count": null,
      "outputs": [
        {
          "output_type": "stream",
          "name": "stdout",
          "text": [
            "sunny\n"
          ]
        }
      ]
    },
    {
      "cell_type": "code",
      "source": [
        "print(type(a))"
      ],
      "metadata": {
        "colab": {
          "base_uri": "https://localhost:8080/"
        },
        "id": "e1MpTDK-Shmw",
        "outputId": "cad6f02e-aae2-48a2-c5f1-602b99b400d5"
      },
      "execution_count": null,
      "outputs": [
        {
          "output_type": "stream",
          "name": "stdout",
          "text": [
            "<class 'str'>\n"
          ]
        }
      ]
    },
    {
      "cell_type": "code",
      "source": [
        "#Strong typing"
      ],
      "metadata": {
        "id": "K7Nw14t3SkxE"
      },
      "execution_count": null,
      "outputs": []
    },
    {
      "cell_type": "code",
      "source": [
        "\"day\" + 1"
      ],
      "metadata": {
        "colab": {
          "base_uri": "https://localhost:8080/",
          "height": 175
        },
        "id": "okJFQM-xS0tY",
        "outputId": "21fe4a0a-740a-4f97-91ea-e9e5e177b133"
      },
      "execution_count": null,
      "outputs": [
        {
          "output_type": "error",
          "ename": "TypeError",
          "evalue": "ignored",
          "traceback": [
            "\u001b[0;31m---------------------------------------------------------------------------\u001b[0m",
            "\u001b[0;31mTypeError\u001b[0m                                 Traceback (most recent call last)",
            "\u001b[0;32m<ipython-input-40-2c6881009946>\u001b[0m in \u001b[0;36m<cell line: 1>\u001b[0;34m()\u001b[0m\n\u001b[0;32m----> 1\u001b[0;31m \u001b[0;34m\"day\"\u001b[0m \u001b[0;34m+\u001b[0m \u001b[0;36m1\u001b[0m\u001b[0;34m\u001b[0m\u001b[0;34m\u001b[0m\u001b[0m\n\u001b[0m",
            "\u001b[0;31mTypeError\u001b[0m: can only concatenate str (not \"int\") to str"
          ]
        }
      ]
    },
    {
      "cell_type": "code",
      "source": [
        "\"day\" + \"1\""
      ],
      "metadata": {
        "colab": {
          "base_uri": "https://localhost:8080/",
          "height": 35
        },
        "id": "6XruT63vS-1z",
        "outputId": "53f64a8b-681d-4f0e-bc22-c7538ae72ca7"
      },
      "execution_count": null,
      "outputs": [
        {
          "output_type": "execute_result",
          "data": {
            "text/plain": [
              "'day1'"
            ],
            "application/vnd.google.colaboratory.intrinsic+json": {
              "type": "string"
            }
          },
          "metadata": {},
          "execution_count": 41
        }
      ]
    },
    {
      "cell_type": "code",
      "source": [
        "\"22\" + \"22\""
      ],
      "metadata": {
        "colab": {
          "base_uri": "https://localhost:8080/",
          "height": 35
        },
        "id": "7wOh_vL0TGrW",
        "outputId": "dbf10127-901e-4ed3-df55-7c3f8227ab9a"
      },
      "execution_count": null,
      "outputs": [
        {
          "output_type": "execute_result",
          "data": {
            "text/plain": [
              "'2222'"
            ],
            "application/vnd.google.colaboratory.intrinsic+json": {
              "type": "string"
            }
          },
          "metadata": {},
          "execution_count": 42
        }
      ]
    },
    {
      "cell_type": "code",
      "source": [
        "\"sunny\" + \"chandra\""
      ],
      "metadata": {
        "colab": {
          "base_uri": "https://localhost:8080/",
          "height": 35
        },
        "id": "DPktbZkyTNVP",
        "outputId": "17430c95-e73e-4992-9d82-4ef9882acfe8"
      },
      "execution_count": null,
      "outputs": [
        {
          "output_type": "execute_result",
          "data": {
            "text/plain": [
              "'sunnychandra'"
            ],
            "application/vnd.google.colaboratory.intrinsic+json": {
              "type": "string"
            }
          },
          "metadata": {},
          "execution_count": 43
        }
      ]
    },
    {
      "cell_type": "code",
      "source": [
        "a = 1 # int data type\n",
        "b = 1.2 #float data\n",
        "c = \"sunny\" # string data type\n",
        "f = 1 + 2j # complex data type\n"
      ],
      "metadata": {
        "id": "2J3aSG_PTRWD"
      },
      "execution_count": null,
      "outputs": []
    },
    {
      "cell_type": "code",
      "source": [
        "print(\"Hi welcome to class of python language\")"
      ],
      "metadata": {
        "colab": {
          "base_uri": "https://localhost:8080/"
        },
        "id": "2KqgsyjfUSkR",
        "outputId": "0f620439-b251-4f5e-f4b3-c52ac4608278"
      },
      "execution_count": null,
      "outputs": [
        {
          "output_type": "stream",
          "name": "stdout",
          "text": [
            "Hi welcome to class of python language\n"
          ]
        }
      ]
    },
    {
      "cell_type": "code",
      "source": [
        "language = \"Python\"\n",
        "print(\"Hi welcome to class of \"+language+\"language\")"
      ],
      "metadata": {
        "colab": {
          "base_uri": "https://localhost:8080/"
        },
        "id": "6EWWBEO5UbB7",
        "outputId": "c976a62a-0130-44c4-cb71-40969c981740"
      },
      "execution_count": null,
      "outputs": [
        {
          "output_type": "stream",
          "name": "stdout",
          "text": [
            "Hi welcome to class of Pythonlanguage\n"
          ]
        }
      ]
    },
    {
      "cell_type": "code",
      "source": [
        "language=\"Javascript\"\n",
        "print(f\"Hi welcome to class of {language} language\")"
      ],
      "metadata": {
        "colab": {
          "base_uri": "https://localhost:8080/"
        },
        "id": "Gaz1fLrIUtx6",
        "outputId": "19d98419-82cc-4cfd-f928-8c249675d35a"
      },
      "execution_count": null,
      "outputs": [
        {
          "output_type": "stream",
          "name": "stdout",
          "text": [
            "Hi welcome to class of Javascript language\n"
          ]
        }
      ]
    },
    {
      "cell_type": "code",
      "source": [
        "a = 1 # int data type\n",
        "b = 1.2 # float data type\n",
        "c = \"sanju\" # string\n",
        "f = 1+2j # complex data type # rarely used"
      ],
      "metadata": {
        "id": "KPvOE3_fVEjw"
      },
      "execution_count": null,
      "outputs": []
    },
    {
      "cell_type": "code",
      "source": [
        "print (\"Hi welcome to class of python language\")"
      ],
      "metadata": {
        "colab": {
          "base_uri": "https://localhost:8080/"
        },
        "id": "xvf-tGXprEw1",
        "outputId": "768987db-dcf6-43c3-f906-2e689acebbad"
      },
      "execution_count": null,
      "outputs": [
        {
          "output_type": "stream",
          "name": "stdout",
          "text": [
            "Hi welcome to class of python language\n"
          ]
        }
      ]
    },
    {
      "cell_type": "code",
      "source": [
        "print (\"Hi welcome to class of java language\")"
      ],
      "metadata": {
        "colab": {
          "base_uri": "https://localhost:8080/"
        },
        "id": "xBxOIIMsrLn3",
        "outputId": "f632b69c-f014-4a0f-e29d-45b5db0c5bc8"
      },
      "execution_count": null,
      "outputs": [
        {
          "output_type": "stream",
          "name": "stdout",
          "text": [
            "Hi welcome to class of java language\n"
          ]
        }
      ]
    },
    {
      "cell_type": "code",
      "source": [
        "language = \"Python\"\n",
        "print(\"Hi welcome of class of \" + language + \" language\")"
      ],
      "metadata": {
        "colab": {
          "base_uri": "https://localhost:8080/"
        },
        "id": "pXucFFDurTvC",
        "outputId": "72143e83-c38b-49e3-c06b-b2ed550b6ce7"
      },
      "execution_count": null,
      "outputs": [
        {
          "output_type": "stream",
          "name": "stdout",
          "text": [
            "Hi welcome of class of Python language\n"
          ]
        }
      ]
    },
    {
      "cell_type": "code",
      "source": [
        "language= \"Javascript\"\n",
        "print(f\"Hi welcome to class of {language} language\")"
      ],
      "metadata": {
        "colab": {
          "base_uri": "https://localhost:8080/"
        },
        "id": "dTysHvR0rkLC",
        "outputId": "739aeeea-8922-4171-e2a5-8a9b12baf7f8"
      },
      "execution_count": null,
      "outputs": [
        {
          "output_type": "stream",
          "name": "stdout",
          "text": [
            "Hi welcome to class of Javascript language\n"
          ]
        }
      ]
    },
    {
      "cell_type": "code",
      "source": [
        "# f -> farmated string method\n",
        "num = \"first\"\n",
        "language = \"Python\"\n",
        "print(\"Today is the {} class of {} language\" .format(num, language))"
      ],
      "metadata": {
        "colab": {
          "base_uri": "https://localhost:8080/"
        },
        "id": "nazvXsS7sOfP",
        "outputId": "9c0678dc-6172-42ba-b5e6-58705bc6c268"
      },
      "execution_count": null,
      "outputs": [
        {
          "output_type": "stream",
          "name": "stdout",
          "text": [
            "Today is the first class of Python language\n"
          ]
        }
      ]
    },
    {
      "cell_type": "code",
      "source": [
        "a=22\n",
        "b=34\n",
        "c=a+b\n",
        "print(f\"the result of sum of two nums a: {a} and b: {b} is ={c}\")"
      ],
      "metadata": {
        "colab": {
          "base_uri": "https://localhost:8080/"
        },
        "id": "UjCdk0GAt5SF",
        "outputId": "b7702432-41ad-4c2f-cc78-93fcfc030dd2"
      },
      "execution_count": null,
      "outputs": [
        {
          "output_type": "stream",
          "name": "stdout",
          "text": [
            "the result of sum of two nums a: 22 and b: 34 is =56\n"
          ]
        }
      ]
    },
    {
      "cell_type": "code",
      "source": [
        "#Boolean data type\n",
        "#True and false\n",
        "One = True\n",
        "Two = False"
      ],
      "metadata": {
        "id": "Ieu8EkcGusB_"
      },
      "execution_count": null,
      "outputs": []
    },
    {
      "cell_type": "code",
      "source": [
        "num = \"first\"\n",
        "language = \"Python\"\n",
        "print(\"Today is the {} class of {} language\" .format(num,language))"
      ],
      "metadata": {
        "colab": {
          "base_uri": "https://localhost:8080/"
        },
        "id": "uara1EC45VzF",
        "outputId": "0514ec2d-25e5-455e-aa2d-4d4a5775d4f8"
      },
      "execution_count": null,
      "outputs": [
        {
          "output_type": "stream",
          "name": "stdout",
          "text": [
            "Today is the first class of Python language\n"
          ]
        }
      ]
    },
    {
      "cell_type": "code",
      "source": [
        "num = \"first\"\n",
        "language = \"Python\"\n",
        "print(\"Today is the {} class of {} language\" .format(num, language))"
      ],
      "metadata": {
        "colab": {
          "base_uri": "https://localhost:8080/"
        },
        "id": "rUVvZXsi7DO9",
        "outputId": "782f4ccd-2160-4e2d-fa4f-1529d050e923"
      },
      "execution_count": null,
      "outputs": [
        {
          "output_type": "stream",
          "name": "stdout",
          "text": [
            "Today is the first class of Python language\n"
          ]
        }
      ]
    },
    {
      "cell_type": "code",
      "source": [
        "num = \"first\"\n",
        "language = \"Python\"\n",
        "print(\"Today is the {\"+num+\"} class of \"+language+\" language\")"
      ],
      "metadata": {
        "colab": {
          "base_uri": "https://localhost:8080/"
        },
        "id": "l1mIwHNP7ela",
        "outputId": "6580caf7-be34-448b-fc00-10b5ecb83ffe"
      },
      "execution_count": null,
      "outputs": [
        {
          "output_type": "stream",
          "name": "stdout",
          "text": [
            "Today is the {first} class of Python language\n"
          ]
        }
      ]
    },
    {
      "cell_type": "code",
      "source": [
        "a=22\n",
        "b=34\n",
        "c=a+b\n",
        "print(f\"the result sum of two a:{a} and b: {b} is ={c}\")"
      ],
      "metadata": {
        "colab": {
          "base_uri": "https://localhost:8080/"
        },
        "id": "hpGTozAM75Uc",
        "outputId": "3961c9da-702f-4c19-cdc5-b885d091ae87"
      },
      "execution_count": null,
      "outputs": [
        {
          "output_type": "stream",
          "name": "stdout",
          "text": [
            "the result sum of two a:22 and b: 34 is =56\n"
          ]
        }
      ]
    },
    {
      "cell_type": "code",
      "source": [
        "one = True\n",
        "two = False\n",
        "print(type(one))"
      ],
      "metadata": {
        "colab": {
          "base_uri": "https://localhost:8080/"
        },
        "id": "Mltj6va-9I-l",
        "outputId": "173a8411-fc9c-467e-8d02-65b1959329ab"
      },
      "execution_count": null,
      "outputs": [
        {
          "output_type": "stream",
          "name": "stdout",
          "text": [
            "<class 'bool'>\n"
          ]
        }
      ]
    },
    {
      "cell_type": "code",
      "source": [
        "class_starts_at = 6\n",
        "you_came_at = 5\n",
        "you_understand_all_concepts = you_came_at > class_starts_at\n",
        "\n",
        "print(f\"you understood everything?:{you_understand_all_concepts}\")"
      ],
      "metadata": {
        "colab": {
          "base_uri": "https://localhost:8080/"
        },
        "id": "nJ5FVqwN9R7e",
        "outputId": "67a2de07-b512-46b7-e70f-5b6508a4f2f4"
      },
      "execution_count": null,
      "outputs": [
        {
          "output_type": "stream",
          "name": "stdout",
          "text": [
            "you understood everything?:False\n"
          ]
        }
      ]
    },
    {
      "cell_type": "code",
      "source": [
        "\"\"\"\n",
        "hi there is some one\n",
        "this ot good\n",
        "as far as\n",
        "\"\"\""
      ],
      "metadata": {
        "id": "svsw0bCuA7xb",
        "colab": {
          "base_uri": "https://localhost:8080/",
          "height": 35
        },
        "outputId": "ba74cb2e-bd77-4cb8-cc34-dc397d1abc0d"
      },
      "execution_count": null,
      "outputs": [
        {
          "output_type": "execute_result",
          "data": {
            "text/plain": [
              "'\\nhi there is some one\\nthis ot good\\nas far as\\n'"
            ],
            "application/vnd.google.colaboratory.intrinsic+json": {
              "type": "string"
            }
          },
          "metadata": {},
          "execution_count": 2
        }
      ]
    },
    {
      "cell_type": "code",
      "source": [
        "12+21"
      ],
      "metadata": {
        "colab": {
          "base_uri": "https://localhost:8080/"
        },
        "id": "_wtadLAJ0Rtz",
        "outputId": "1e66d3fa-59a0-4612-e962-f40582af967c"
      },
      "execution_count": null,
      "outputs": [
        {
          "output_type": "execute_result",
          "data": {
            "text/plain": [
              "33"
            ]
          },
          "metadata": {},
          "execution_count": 3
        }
      ]
    },
    {
      "cell_type": "code",
      "source": [
        "123/23"
      ],
      "metadata": {
        "colab": {
          "base_uri": "https://localhost:8080/"
        },
        "id": "FpbnS7xp0wFt",
        "outputId": "841ade68-c33e-44cb-d3a4-db3b6eb6145f"
      },
      "execution_count": null,
      "outputs": [
        {
          "output_type": "execute_result",
          "data": {
            "text/plain": [
              "5.3478260869565215"
            ]
          },
          "metadata": {},
          "execution_count": 4
        }
      ]
    },
    {
      "cell_type": "code",
      "source": [
        "(-123)**2"
      ],
      "metadata": {
        "colab": {
          "base_uri": "https://localhost:8080/"
        },
        "id": "jasANpma0yTJ",
        "outputId": "5aedd987-f6bf-4896-c7c5-2093d66acfb2"
      },
      "execution_count": null,
      "outputs": [
        {
          "output_type": "execute_result",
          "data": {
            "text/plain": [
              "15129"
            ]
          },
          "metadata": {},
          "execution_count": 5
        }
      ]
    },
    {
      "cell_type": "code",
      "source": [
        "123%2 # module operator which gives you reminder"
      ],
      "metadata": {
        "colab": {
          "base_uri": "https://localhost:8080/"
        },
        "id": "Y9sEaBLQ058Q",
        "outputId": "09979282-9e5b-4800-d6a8-2129f27b11ad"
      },
      "execution_count": null,
      "outputs": [
        {
          "output_type": "execute_result",
          "data": {
            "text/plain": [
              "1"
            ]
          },
          "metadata": {},
          "execution_count": 6
        }
      ]
    },
    {
      "cell_type": "code",
      "source": [
        "__num = 10 # hidden variable"
      ],
      "metadata": {
        "id": "4ap96M751GIJ"
      },
      "execution_count": null,
      "outputs": []
    },
    {
      "cell_type": "code",
      "source": [
        "Ten = 10\n",
        "ten number = 10"
      ],
      "metadata": {
        "colab": {
          "base_uri": "https://localhost:8080/",
          "height": 140
        },
        "id": "slpEGVLP1_MG",
        "outputId": "4b2f6419-9f50-4d8c-b87e-5dd248661c90"
      },
      "execution_count": null,
      "outputs": [
        {
          "output_type": "error",
          "ename": "SyntaxError",
          "evalue": "ignored",
          "traceback": [
            "\u001b[0;36m  File \u001b[0;32m\"<ipython-input-8-2957994c773c>\"\u001b[0;36m, line \u001b[0;32m2\u001b[0m\n\u001b[0;31m    ten number = 10\u001b[0m\n\u001b[0m        ^\u001b[0m\n\u001b[0;31mSyntaxError\u001b[0m\u001b[0;31m:\u001b[0m invalid syntax\n"
          ]
        }
      ]
    },
    {
      "cell_type": "code",
      "source": [
        "a=7\n",
        "type(a)"
      ],
      "metadata": {
        "colab": {
          "base_uri": "https://localhost:8080/"
        },
        "id": "i5pmeJp92F_c",
        "outputId": "f366fd16-ec6a-4922-851a-19e1dd14d459"
      },
      "execution_count": null,
      "outputs": [
        {
          "output_type": "execute_result",
          "data": {
            "text/plain": [
              "int"
            ]
          },
          "metadata": {},
          "execution_count": 9
        }
      ]
    },
    {
      "cell_type": "code",
      "source": [
        "b=77777\n",
        "type(b)"
      ],
      "metadata": {
        "colab": {
          "base_uri": "https://localhost:8080/"
        },
        "id": "mIIzaHYu3Ns6",
        "outputId": "780170fd-92d7-452b-924a-07376fc8f69d"
      },
      "execution_count": null,
      "outputs": [
        {
          "output_type": "execute_result",
          "data": {
            "text/plain": [
              "int"
            ]
          },
          "metadata": {},
          "execution_count": 10
        }
      ]
    },
    {
      "cell_type": "code",
      "source": [
        "pi = 3.12\n",
        "type(pi)"
      ],
      "metadata": {
        "colab": {
          "base_uri": "https://localhost:8080/"
        },
        "id": "NArwLgUs3VQE",
        "outputId": "2d8b266e-4055-4283-c757-b0d09cdf16ce"
      },
      "execution_count": null,
      "outputs": [
        {
          "output_type": "execute_result",
          "data": {
            "text/plain": [
              "float"
            ]
          },
          "metadata": {},
          "execution_count": 11
        }
      ]
    },
    {
      "cell_type": "code",
      "source": [
        "a=2+3j\n",
        "type(a)"
      ],
      "metadata": {
        "colab": {
          "base_uri": "https://localhost:8080/"
        },
        "id": "9QRAl4683be1",
        "outputId": "af1cc654-a40d-4e05-bb0d-067804af881a"
      },
      "execution_count": null,
      "outputs": [
        {
          "output_type": "execute_result",
          "data": {
            "text/plain": [
              "complex"
            ]
          },
          "metadata": {},
          "execution_count": 12
        }
      ]
    },
    {
      "cell_type": "code",
      "source": [
        "a = 22\n",
        "print(type(a))\n",
        "a = 22.2\n",
        "print (type(a))\n",
        "a = \"sunny\"\n",
        "print (type(a))"
      ],
      "metadata": {
        "colab": {
          "base_uri": "https://localhost:8080/"
        },
        "id": "W1h-KQhR3juc",
        "outputId": "2d43c240-9a89-4f60-b235-2dd1df5d205b"
      },
      "execution_count": null,
      "outputs": [
        {
          "output_type": "stream",
          "name": "stdout",
          "text": [
            "<class 'int'>\n",
            "<class 'float'>\n",
            "<class 'str'>\n"
          ]
        }
      ]
    },
    {
      "cell_type": "code",
      "source": [
        "#multi assignment of variables"
      ],
      "metadata": {
        "id": "43TWO1Xj4AIk"
      },
      "execution_count": null,
      "outputs": []
    },
    {
      "cell_type": "code",
      "source": [
        "a, b, c = 10, 20, \"sunny\"\n",
        "type(a)"
      ],
      "metadata": {
        "id": "rt-h06Nr54xR",
        "colab": {
          "base_uri": "https://localhost:8080/"
        },
        "outputId": "0b08907d-c04f-48cf-9bc8-59994fd80660"
      },
      "execution_count": null,
      "outputs": [
        {
          "output_type": "execute_result",
          "data": {
            "text/plain": [
              "int"
            ]
          },
          "metadata": {},
          "execution_count": 1
        }
      ]
    },
    {
      "cell_type": "code",
      "source": [
        "type(c)"
      ],
      "metadata": {
        "colab": {
          "base_uri": "https://localhost:8080/"
        },
        "id": "kVbtyoGDTgHn",
        "outputId": "713165ef-cc38-46e6-a402-bb34ba44404f"
      },
      "execution_count": null,
      "outputs": [
        {
          "output_type": "execute_result",
          "data": {
            "text/plain": [
              "str"
            ]
          },
          "metadata": {},
          "execution_count": 2
        }
      ]
    },
    {
      "cell_type": "code",
      "source": [
        "a=b=c=10\n",
        "a,b,c"
      ],
      "metadata": {
        "colab": {
          "base_uri": "https://localhost:8080/"
        },
        "id": "AnJXhXtATpZI",
        "outputId": "709e1242-210d-4a61-c5c5-e6641792aa23"
      },
      "execution_count": null,
      "outputs": [
        {
          "output_type": "execute_result",
          "data": {
            "text/plain": [
              "(10, 10, 10)"
            ]
          },
          "metadata": {},
          "execution_count": 3
        }
      ]
    },
    {
      "cell_type": "code",
      "source": [
        "#Note: before can i use ? please try in colab or jupitar notebook once\n",
        "# USER INPUT\n",
        "\n",
        "name = input(\"Enter your Name: \")\n",
        "print(f\"you have entered: {name}\")"
      ],
      "metadata": {
        "colab": {
          "base_uri": "https://localhost:8080/"
        },
        "id": "OwI0xeARVUgq",
        "outputId": "9890be4e-ecc5-4be3-ccc0-36f64b3c98d2"
      },
      "execution_count": null,
      "outputs": [
        {
          "output_type": "stream",
          "name": "stdout",
          "text": [
            "Enter your Name: 12334\n",
            "you have entered: 12334\n"
          ]
        }
      ]
    },
    {
      "cell_type": "code",
      "source": [
        "A = input(\"Enter value of A: \")\n",
        "B = input(\"Enter value of B: \")\n",
        "print(f\"Sum of A and B is: {A+B}\")"
      ],
      "metadata": {
        "id": "WlpXkQ7YWFsd"
      },
      "execution_count": null,
      "outputs": []
    },
    {
      "cell_type": "code",
      "source": [
        "A = input(\"Enter value of A: \")\n",
        "B = input(\"Enter value of B: \")\n",
        "\n",
        "print(type(A), tupe(B))"
      ],
      "metadata": {
        "id": "Y5pBTufjW5RR"
      },
      "execution_count": null,
      "outputs": []
    },
    {
      "cell_type": "code",
      "source": [
        "A = input(\"Enter value of A:\")\n",
        "B = input(\"Enter value of B:\")"
      ],
      "metadata": {
        "id": "SqGipGczYtfb",
        "colab": {
          "base_uri": "https://localhost:8080/"
        },
        "outputId": "97e292fb-26b4-43d6-c75b-3a2edee01d84"
      },
      "execution_count": 1,
      "outputs": [
        {
          "name": "stdout",
          "output_type": "stream",
          "text": [
            "Enter value of A:123\n",
            "Enter value of B:124\n"
          ]
        }
      ]
    },
    {
      "cell_type": "code",
      "source": [
        "name = input(\"Enter your name: {name}\")\n",
        "print(f\"you have entered: {name}\")"
      ],
      "metadata": {
        "id": "smPLqR47ckxj"
      },
      "execution_count": null,
      "outputs": []
    },
    {
      "cell_type": "code",
      "source": [],
      "metadata": {
        "id": "CxXwbgcOdF2K"
      },
      "execution_count": null,
      "outputs": []
    }
  ]
}