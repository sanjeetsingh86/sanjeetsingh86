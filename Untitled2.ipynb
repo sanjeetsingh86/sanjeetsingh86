{
  "nbformat": 4,
  "nbformat_minor": 0,
  "metadata": {
    "colab": {
      "provenance": [],
      "authorship_tag": "ABX9TyPnAv5TyDFXCaXgaWuopla4",
      "include_colab_link": true
    },
    "kernelspec": {
      "name": "python3",
      "display_name": "Python 3"
    },
    "language_info": {
      "name": "python"
    }
  },
  "cells": [
    {
      "cell_type": "markdown",
      "metadata": {
        "id": "view-in-github",
        "colab_type": "text"
      },
      "source": [
        "<a href=\"https://colab.research.google.com/github/sanjeetsingh86/sanjeetsingh86/blob/main/Untitled2.ipynb\" target=\"_parent\"><img src=\"https://colab.research.google.com/assets/colab-badge.svg\" alt=\"Open In Colab\"/></a>"
      ]
    },
    {
      "cell_type": "code",
      "execution_count": 11,
      "metadata": {
        "colab": {
          "base_uri": "https://localhost:8080/",
          "height": 140
        },
        "id": "ShT9qxv96NpU",
        "outputId": "02d22afe-8e4e-4c29-99a3-25dedbad3bf4"
      },
      "outputs": [
        {
          "output_type": "error",
          "ename": "IndentationError",
          "evalue": "ignored",
          "traceback": [
            "\u001b[0;36m  File \u001b[0;32m\"<tokenize>\"\u001b[0;36m, line \u001b[0;32m27\u001b[0m\n\u001b[0;31m    (\"Hi There\")\u001b[0m\n\u001b[0m    ^\u001b[0m\n\u001b[0;31mIndentationError\u001b[0m\u001b[0;31m:\u001b[0m unindent does not match any outer indentation level\n"
          ]
        }
      ],
      "source": [
        "#AGENDA\n",
        "1. Variable Case senstivity\n",
        "2. Reserved words in Python\n",
        "3. Multi assignment of variables\n",
        "4. User Input\n",
        "5. Type casting l type conversion\n",
        "6. Memory block\n",
        "7. Operators\n",
        "  - Logical\n",
        "  - Equality\n",
        "  - Comparision\n",
        "  - Arthimatic\n",
        "  - Bitwise\n",
        "  - Operators for sets and dictionary\n",
        "  8. String Method\n",
        "\n",
        "\n",
        "  1. Variable case sensitivity\n",
        "\n",
        "  TEN = 10\n",
        "  ten = 10\n",
        "  # TEN and ten both are differnet in terms of lowercase and uppercase letter\n",
        "  print(TEN)\n",
        "\n",
        "# Reserved words in python\n",
        "\n",
        " (\"Hi There\")\n",
        " print(\"Hi There\")\n",
        "\n",
        " We should not use reserved words as variable names\n",
        "\n",
        " Also python doesnot restrict"
      ]
    },
    {
      "cell_type": "markdown",
      "source": [],
      "metadata": {
        "id": "OZQ5erMX9vPL"
      }
    },
    {
      "cell_type": "code",
      "source": [
        "print(\"Hi there\")"
      ],
      "metadata": {
        "colab": {
          "base_uri": "https://localhost:8080/"
        },
        "id": "ueb3hV0F9zGJ",
        "outputId": "93647395-1664-412f-d831-762237ee0bb9"
      },
      "execution_count": 12,
      "outputs": [
        {
          "output_type": "stream",
          "name": "stdout",
          "text": [
            "Hi there\n"
          ]
        }
      ]
    },
    {
      "cell_type": "code",
      "source": [],
      "metadata": {
        "id": "kR8qpZV-8LeZ"
      },
      "execution_count": null,
      "outputs": []
    }
  ]
}